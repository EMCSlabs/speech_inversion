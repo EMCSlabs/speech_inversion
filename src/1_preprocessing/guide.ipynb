{
 "cells": [
  {
   "cell_type": "markdown",
   "metadata": {},
   "source": [
    "# Guide for data processing"
   ]
  },
  {
   "cell_type": "code",
   "execution_count": 1,
   "metadata": {},
   "outputs": [],
   "source": [
    "import numpy as np\n",
    "from tools import read_data\n",
    "import scipy.io as sio"
   ]
  },
  {
   "cell_type": "markdown",
   "metadata": {},
   "source": [
    "## Load data"
   ]
  },
  {
   "cell_type": "code",
   "execution_count": 4,
   "metadata": {},
   "outputs": [
    {
     "name": "stdout",
     "output_type": "stream",
     "text": [
      "Acoustics data: 26713\n",
      "Acoustics dimension: 39\n",
      "Articulation data: 26713\n",
      "Articulation dimension: 14\n"
     ]
    }
   ],
   "source": [
    "acous_train = '../../data/vowels/train/acoustics_train.mat'\n",
    "artic_train = '../../data/vowels/train/articulation_train.mat'\n",
    "\n",
    "acous_raw, artic_raw, labels = read_data.load_data(acous_train, artic_train)\n",
    "# acous_raw and artic_raw is list variable\n",
    "# each element in the list is a numpy array\n",
    "acous_dim = acous_raw[0].shape[0]\n",
    "artic_dim = artic_raw[0].shape[0]\n",
    "\n",
    "print('Acoustics data: {:d}'.format(len(acous_raw)))\n",
    "print('Acoustics dimension: {:d}\\n'.format(acous_dim))\n",
    "print('Articulation data: {:d}'.format(len(artic_raw)))\n",
    "print('Articulation dimension: {:d}\\n'.format(artic_dim))"
   ]
  },
  {
   "cell_type": "markdown",
   "metadata": {},
   "source": [
    "## Check data"
   ]
  },
  {
   "cell_type": "code",
   "execution_count": 10,
   "metadata": {},
   "outputs": [
    {
     "name": "stdout",
     "output_type": "stream",
     "text": [
      "JW14_TP081_IY_20\n"
     ]
    },
    {
     "data": {
      "text/html": [
       "<video width=\"432\" height=\"288\" controls autoplay>\n",
       "  <source type=\"video/mp4\" src=\"data:video/mp4;base64,AAAAHGZ0eXBNNFYgAAACAGlzb21pc28yYXZjMQAAAAhmcmVlAAAmPW1kYXQAAAKuBgX//6rcRem9\n",
       "5tlIt5Ys2CDZI+7veDI2NCAtIGNvcmUgMTQ4IHIyNjQzIDVjNjU3MDQgLSBILjI2NC9NUEVHLTQg\n",
       "QVZDIGNvZGVjIC0gQ29weWxlZnQgMjAwMy0yMDE1IC0gaHR0cDovL3d3dy52aWRlb2xhbi5vcmcv\n",
       "eDI2NC5odG1sIC0gb3B0aW9uczogY2FiYWM9MSByZWY9MyBkZWJsb2NrPTE6MDowIGFuYWx5c2U9\n",
       "MHgzOjB4MTEzIG1lPWhleCBzdWJtZT03IHBzeT0xIHBzeV9yZD0xLjAwOjAuMDAgbWl4ZWRfcmVm\n",
       "PTEgbWVfcmFuZ2U9MTYgY2hyb21hX21lPTEgdHJlbGxpcz0xIDh4OGRjdD0xIGNxbT0wIGRlYWR6\n",
       "b25lPTIxLDExIGZhc3RfcHNraXA9MSBjaHJvbWFfcXBfb2Zmc2V0PS0yIHRocmVhZHM9OSBsb29r\n",
       "YWhlYWRfdGhyZWFkcz0xIHNsaWNlZF90aHJlYWRzPTAgbnI9MCBkZWNpbWF0ZT0xIGludGVybGFj\n",
       "ZWQ9MCBibHVyYXlfY29tcGF0PTAgY29uc3RyYWluZWRfaW50cmE9MCBiZnJhbWVzPTMgYl9weXJh\n",
       "bWlkPTIgYl9hZGFwdD0xIGJfYmlhcz0wIGRpcmVjdD0xIHdlaWdodGI9MSBvcGVuX2dvcD0wIHdl\n",
       "aWdodHA9MiBrZXlpbnQ9MjUwIGtleWludF9taW49MjAgc2NlbmVjdXQ9NDAgaW50cmFfcmVmcmVz\n",
       "aD0wIHJjX2xvb2thaGVhZD00MCByYz1jcmYgbWJ0cmVlPTEgY3JmPTIzLjAgcWNvbXA9MC42MCBx\n",
       "cG1pbj0wIHFwbWF4PTY5IHFwc3RlcD00IGlwX3JhdGlvPTEuNDAgYXE9MToxLjAwAIAAABYWZYiE\n",
       "ADv//vdOvwKbRZdqA5JXCvbKpCZZuVJrAfKmAAADAAARsG58lw15q9IkAACxZ+xH/wAHJdFeLOeQ\n",
       "7aFoMn7H/JlkGRjJLn5HEYtHIvUatyVyIuTV4+aEsF3eJkUrMrcuGSqHRUMKTNVrsHopBYIQkXG/\n",
       "T/oXuJg/gEjGSjCMYsGYAvqT8ktqrda6TMlzqmiwSyn2x6gLyK5hlIwN17asSxNbftcFAJyJeQI6\n",
       "08RJaO3uMlvwWVPs/dF4VJ6UnQjxtBV/wVHx4DWCOpgoVog95DS75s6kt25qMI69NJtCLqnpGR1W\n",
       "kp+MIncDQSUJGUylDmUZQ5eKGGxeHb5uTBCUDSr5LqRoI/wtvs2GnjzR5HRrdLLVouShTypCMcDr\n",
       "lwyr/enc1LfVxRfymOS+oIZTGQJbyMjd17QPSh/GOmPBL4Rd0/mbNmHfNcdBbZOCv8AckP9LFqAW\n",
       "88x7Ps3/K/TmMfHw2+gq6lkcU15tfVyxjhmmYnveiYMymS5z00ZX8BD9zKM6XDISi+v3UsGJptXV\n",
       "4R4BMz+yRQnbgJ1LmbYt+JdUY3RA8B9wX7gU6ZLVCNefRqmP+evUa6U1GDeez/qU8g1dSbTHuZ6V\n",
       "8ZFyM8S8dhx9OwYZcGry9ipVWU5q4M9y13h1HuZghoWjvBH9DHJiaZPKuatxwWnwK38JKdHwG2eY\n",
       "832M5HaQwQYw7Nj8TB8ru3mY8DChnOddISeonzQiL9k76DIwubgKi1/11DVsYbsNTMnbX0NiumVW\n",
       "hc5eYCTFG6cpfluCo/ZyzuhGbVbLVlCRbnhevO9Bnjm8ycQjGGPja7oB9xjDNTmWFeivQb1gptr0\n",
       "ICp9fjcrQ/z1QTgi5Z1zsUjDSl+MffIAKSBfevFH8zfl+JWLnGnaE2l6eOg+0qwjfYZzRSDrQM20\n",
       "nbUZpo0lbidzuop8uddogGESGtf/nfYhZVSJixAzO1jMXJVOcIdCCRFz4bPubxugPjbhUJhgg3tn\n",
       "rh14WREckyKEQaDFz+qanRVn3tHGWQLPD4su4vSHungGtakuqurstkLYDD5IQKUSPwl4KB14pgBI\n",
       "I2D/R6GqDGGF5VngNe1ZxH6EYw3+rGMsfBLSODitq8N6o3Wp4PgZGX5VtJZnXQFoJchOgtzl77/B\n",
       "z8W7wM0mReimxSe1pLeMhTemPNsQDBlXzW78qnJbzSQA7WY4GXx0YWRZQAX6kxKN3lqfxcF4Lo5y\n",
       "Q7A3/5w6+upwMGuQrrvJEbbgbCvDdDYLI/CAaG/QwMm0sp2Cgf0dxaHQwxZWDx4cRt012RwzQ3Dq\n",
       "jGyezxeSSGIz+bWSbVJkldpQmhz2+ROBD1RK0Ini6kqQY1U1IPQXWOlC1AchOW1Y2N/Wehnx4WOD\n",
       "9ODu6vNnjFERvsA0IZk39IVsmr5Ei05+5fQ+IBmDjfBHP+9Gx5UEW+UUoAZjrFo1BKBQzPGoTg5l\n",
       "//hLQ4RidJ9GsSccm7NnvvwZp8h+YQh099xrFRwEO9PS8E333LXKJljHAbQSxiiPEhBakjhnZhA9\n",
       "SBuxPyODBpIINbjdEwZo7e1gjTZ8e59C63StPYEbf2MG4W491OTxHFGBHdvwAMya+oXj0RKZ1imc\n",
       "a/zTeUFcE9r3FGq7lvv0ucvX1nn8ZcwqHCtLHCyo9UlHujsjUKMvN3uRwU3Njy3X7TzbEJstYEnn\n",
       "IarXB+OlIOBSDuftvKOujPadDQfo+OMi8rNLpDXM/6amDO6OsFpvFbDAcFRls4JcOyWoLvj8pshk\n",
       "QyE+73lJOxMUi+PijHrNeSCxc+CjJefIpBg25OK8bh5+9UEnptyqA6j++w21IKoIbeHElPbUV2Vb\n",
       "PfDYkGhZDNs4qJylg9g1XgI1GALnTI8AV7kYF+OOK8TDOrbw3BuzHrrYFGFgbytLhHuiJYGzaXYc\n",
       "k/+etZSrBEqTpCKnbM5Z4cQXMZp+q/I0ERDsmjubGpxZ/fzRZ81CP8o95YP6dbwSiXRRwG8vs62p\n",
       "PNQOtQj0PFslLfEqeuRlH2xNeWUd/LEmktMgw33f+u3AB8bcHi8nefobylciLJKQyvae5X8HsUPG\n",
       "jzE3d3PF9DZqy7rhvYPRCScpsDphQ1bLcQ6r0uYuPkKO2YCMX7wir4EsGjY+e40JiEJ3+UDEOgJf\n",
       "2kYyUBKljVAUfcXUWNuK+U1GbDF2WOQj+iEOeOJlvEsxxWrzFqflLWy1co6fLDlT+sK2/shbea9d\n",
       "xrxDuLRLFVyx/bksFG4scGOe5H65EvOIah749DsIFlS8QLYQcNqCmQa3pCFid7cNFa0KHQ7EEnI+\n",
       "uxUXnSK7X2Mht/EDlrhF6daVUodxNM/refAdqWGLdf0yqFlPiBZ/w8zW0jyIqcCoasU/pSVmXcjA\n",
       "xFso4wIuwDPBWjWun0EgyL0kIJbW40Y8PsbbBg3vytMu7TbL4z8/br4FzaGcqiE7d0WXZ9o7qENc\n",
       "5Qrk9DqXbdQgJRePxhhN4z/XeVyoMcwLhotWLv2U2aXp0ZhPd1CG4bgYMACRwooYfpydtQTQUGJl\n",
       "90YNdkz4Rs3HHY0qPNQBw7/IT4GNUQGUQfFmEqRCMZ0kL4VkGGlraVGdNvAgLsNwRAKgt5p2WtQb\n",
       "yqElliikaRD7tLb0EBUCwyQna1AWgAeXQMyGdXfVByD5wmaQ8UCdmib3VhjG29FxqeEicaFnjMDl\n",
       "m/YRF6O9a/gDbHnD+vbPQFm487a5Ji55VxLWVDR2z4t8I3KXxtSNZNE9uD+ro1KOVQEkKysEFWqd\n",
       "lArFu8dfzSORGcaFpqE/iLOihfLXiIsFI1XGPtk8828Mz0HbSzKH0O5KEBuwL5rpKT0kAEmSPSfs\n",
       "M0YKQWdHykkMoCh9xIjesMuzpE3KUe6j6xCPnIZGaRtqSQaFZHFjFwJaf+eIJdj0ChWcRkFiRjrP\n",
       "kcIogBjSQMWI5GR6hUVDKYxuDvByMpiJhOmDcU4/mtUWRXB75dL5+HvutHzO4Ar0M+W6upvkRIvS\n",
       "OW/H94I8BcOOl5uDRkTiiBiJ4i0yV811aiGg3dJEt6cdxzFlczsQUY9v0bgG4isdIR5Pm8K6l1ry\n",
       "faPwiJYNMTo8raj3gsO7OXPQSeY2MbKAEBFO1k75vfiAk1EzbxafFHHISdJyRXROEzJ1i1WDESze\n",
       "xm8UUuX9wqtgxh3kOu5Sa64ZpVl4k4Z1gxv7Cp1UWj+l3GDj2hePzSueRVWEoFb0KAIkzY6bUKX6\n",
       "ywsMfRYsG1CD+ezvT5pM4QJbBNgFZuHXNf5FMRMWCBuvS2nRz0YdSgouE/oMW5upkYyscY/P9DyH\n",
       "M1ArvJKlDB8Y5jP0wRqllAUOeKlKaHrupUmnSibIGD8oZ/PXgSuFN6c+2Bqnxa+xGf35uKGj/N41\n",
       "hWreQxeEK7Wrn1PWQsLZPOmCuCGmjuVV0bNRZoA06h0j99VF/jfBu6OWm5taUhlWaJjbX3PBL3e/\n",
       "z+eiKKbYgFqjlFSdwhvf7G+YoiUrqiAWstJicofZMZTjWLctZXjjx1CQcsoh4euP3sK3PJBgn2dF\n",
       "5CseEYO//HIhx4El1HUjYISAQbT3Z3zJVIc+BenhCupv6+t4ZshYjYy5/dZSr+AMtPTxjr6DByhX\n",
       "Zdioldg+1aeiRqL4PnbSEtGfN6yavgyb7TxCduSylyWrQsAE6hPv1DBIEyfJO0edgxVAD9yThE14\n",
       "D+9dMEyM5EU66nVBNSZNaCrciML1W26qvJYpzP2nScTtKX8mdpjuln1EeuIIRzuHOfCONJGScBV8\n",
       "/t6JSpxzX4yxM4qKW635q2AuXRYwCIKHg18Lew+0wfeobakYCx7GEBMV/hIK/wvb3slbIFfslFbZ\n",
       "oPr27ldnCV1Pkg2/yIxnXgQ3LevS4NS4RIwN3qgLE/vXljGNlal0/GVmRirwuLp4/Et/FustB0Ap\n",
       "JExwq8CMNIY8qcekIT40YBz5ydYV3dScpn/JTKP/MCmjVFW5txVqjT8C/aGcjxbBQ/ZXEqgGAYxW\n",
       "1A0HQq0A9lnNA4rzdyHse04WP5xcdMw3ZLWVFQNMI+VzETObaYpW5PIe70oS24nPoBcrqkYMvjNU\n",
       "hmgOQ9P0S20E8PpadIRYhiDPObEodiShgtpyo0usu/PViRyShag3iunLkq/ILIihI2hw4RLWEmC1\n",
       "/hrGCKHATbtyquYgqDCpMASjNxcSt95HlW8SgXLx+sLp6kOYccC6eOohrP1UtxF/5pqowOU3Oi8k\n",
       "9LcaGObndKiKhRm6qV6oX/XazfgksDU2eyIZEu4bqXlbGT3su0R87tm/uzrGns59QW6rPb2/ZOEs\n",
       "xC+KSyDoIRHhHmbhKVPDlkkHRCXZkWM56Nt3MRmflCLpi+K+pCKxESpyl8W0/4ErQETWXziLNQ4v\n",
       "/CwWZYq7Xk/o4DyCPZffIm6ix6yfpYxET81+Yb3znk0FoA8H5Dvs0nHT1mqhbQFc/2XCiLxuRYAA\n",
       "AwW+RnXfHODkCLUtSBWcels9VBkMxRp5x3szAdWrZg3v6EcrbqfvSkunML7uvd4i8ua/gr9xNwOP\n",
       "ILUnehI2yBVvy6DFHbrMHQXFDoODy4KIMdcf4as3cBJwXvD2gJiszPW+87D2gqd//767jrlZCGTd\n",
       "AUB8GnORVZYXrkthYzxTVPzFmtQm7bDxvY/kjcGJD1wl3fjbdkLY8YLcxv4gehESteN9ItSwyH9B\n",
       "fqCH/VGL7u7u79Uggnx5Nlb+2dfjql4RjytCmsi8R4Po+eMNMjt2DVri+PcjBV1JAyhR2KKXb/V7\n",
       "GGvNnjn3oPtCXpOERzTqnWDhVVpF7oicixGXKuav18od6+98iEapxpePf1stXqpmHhV5vOsBXq3E\n",
       "KdvhywJJveZ5RQUw+be8cIZjlRfCn0L5J6euoW9KRyLjdIUc2YnVrtbCovu1IAAVhoOuJE9JcgLw\n",
       "rZxnxe+bAAow97nJYV6cVZ4EkECFUQb3NzzY7yLmFSRGzsTVaw/4DpS40QltaGvqIg13gkNX1U+z\n",
       "95FclroDWEjzaMfZgYssK7hwrdnMLDB/2bjUCO4bXBq+rpB9wEuT5PI3SG5x9cZCf8dV3po1LbF1\n",
       "mxtAQU7LqYwR5q7y9N5J9RF/536TxhxQJvhhnRWWoSffdsx3g9pCXUE7waA8WnJYQ1C1PV70Poda\n",
       "qVOeBwIsvYw9Mm0vSi6EtzDzIIhcgAu8AzAM32UC8tLH/RsZvXzwoZ+O3s6J0vz8V9v+tREp7WCP\n",
       "hlVZkIbP+WvprVgIXPJ0WKXCBsscmciU5Iov7nvupKyW04UIemAYc6UT36n+sK+bdzRfT/xHSbI5\n",
       "5OFIrYW8cPOKvqzegCQb/98k7mxZVdCHz6EQm5LJnXHAR82ePFIvUvJPHuU7Iz/dxmRFR1xs4m+Z\n",
       "e2Lhj+la2dc3tVnhDSf2O5DuDVLsQ3BYUD8hPgVbLJMSOmtloapKf53S6O4znhxUoR5WjxZR3vDW\n",
       "whzWpeRLV+5wx2ryk8hu77mVgF5ZSyowQCjyiKCYQil9IZ+xyWovrM6msHaATHp3p3rPIJua0aNr\n",
       "mmlZC6D7MV00DEnaZf6eNJacdVsAPF8lFOd2HbCKgcw0s02BfNlbqCoCYjhlMUnkBdAQs48e2PXv\n",
       "/BNdVceTRgsCo3p4DZI5lWg+CO7gp3Ne56b0lnGXJhjtae2g7Q63y/t7txPR4jDWlBWKTmzH4i2z\n",
       "bng5Y1AJFvJPLvWbQWCyxBr8Ncg4oBs8KQIKEROW1XpwyH2m+TwP0zRUGCAvVKVoJsfo2HW6We8b\n",
       "sT5hFjTGhr3D0wUT/QLv1NWZVM3MW0YjkOgwDP/OE9gjEpEzWrf//ehCNZHgC9NmHcQ5B+sNL+ns\n",
       "M4loNCv9iQY0hyoibiH2zJFyvrmuFgDwHaUjfO/jEvVWVKfI1Y3nSdMH2kXTXW8PGq4BNZcRSjI4\n",
       "Tse6sbKl95J4k310kTAbOFPbu8VtC17MLgBm8b9XG+sgIb9gREUA217ujqhOT4EEHXssLqyYLxDW\n",
       "R5T7LiB2LxIKLRzZk/CjoQuuXV/THHUvwzgD2SCDMkM/0lOwBR7cbUHyBniW98u/C4W1Lx2dg0QW\n",
       "CDa+NNnudLM6EdFwLCrxMyOhcoA0EcoeBCzsfq5YjvCSrQbwSXEpWFdE0uMVZ1LvLSiKwDdlrRiE\n",
       "XFYKfLWLl3T8pE4TFdJDKdiiNDTusrk8YcEHdb+8GmZL1f7WXmMdt9GGuY2aikfwpOuDRP92zqJt\n",
       "0wJDG731CkyJkcZ/7Df/+X8fxy/3nTS6Ral7FU7+YKVDUeiAD0WqrF0udWtDJSIm+oEuRHS/13/7\n",
       "FyqNYCKcZAsHxMazrDwyZ5eAoRYNEwAVjl768Muq0kYQ4J5sMvU2n3xjzHIe6edIA2/owfh0AbCG\n",
       "OcAAT7I17p32FgQ9BsRHLhCg1E+0UG2APuetFoRKqnkQkCD2blsCXJqYxlAXu9qTPHajdNK/kNb4\n",
       "mQGxsVJRF+UKyoxfngncGkgSEr+OeJmRua2Jhm0Osfo/hxJNfhGybi/lcx1y81gMk9JApWok5/WA\n",
       "3Zu9sxTfwfyPXgQlA+AyXYQQCdm0avkXc5Xke93VBI6DHiJvVP5rckhPYv1WLV0WEeefnP5PbTlI\n",
       "sKit5X4Am6th/bO6CCtEhK3Ujky43lHa8mLh3cOKOHA045zmAYu4vZPOpmtVsMZmp5EeodH18q9k\n",
       "Ws+rid2B6UMuil3SICPl+MaFkwK7snhZxDK0X/IR0NO1B1yNfYMsLGp+PYHM/EMyVKJtrUhu8AhL\n",
       "XsssORwKX9gLyzvAPWAzt3FetVY4FlOZT8Io2LMyQIN/7Ebg2WefYnMyioc2DpxoPkhgkn+emQNC\n",
       "wmzdyp0t6PseJ1ZiM/XsXIq6qDSze0UGHJiWaLeFXGCNmmOE8imVIIvj1ph7fuaH53nzGibJPodO\n",
       "MzOkXhIiEsMgUMICdovWiudn/LIXil25pItWBfVAV1S3piY/Z8y48B7xx7maAhQFIuLBoRxtL5CW\n",
       "5xlR5CVojhl1X+rgVtOiFtzE8LczJrwvPHUMEzEN+CDcXM3GoC3oT7zBwghque7OOU6S7OCTe7A3\n",
       "UnwpJczAEGdub77GsEIB2/fT4piesI5GcP/VThNPu+e+Z/U/E74YeqLYju5mx2B2Kx74GLfXPxL2\n",
       "DmQsfOUkO3ivAxALUCrAfRpxOAkkDvWsQnGZsk2BJslZS6ZOaAUVMK11W27e9GsdPKz+yv5MjGPn\n",
       "/l1JcwdkDgW65wZz+jDDiD5nmoQZM0IxGzzfSeq9LWn4RWBnGPsdge5Ivh9lHB+vtBboRboonsAR\n",
       "+dIciCPyEjDhG4u9ulZFomDE+6nCm1wvHMo69s9R+F2FgEneC60h6HAoG8K3wE3C8rBLpPmu1Dri\n",
       "Wp+GhpEyPX+kxviGDeq+ebjSdz+2a1D33bvdeYZ35hDoXwTIOxle4LGPSR1eRXCh9en/rkjlIsU6\n",
       "SANpBvub959Lp3HQmmqxQHG0s2VQDfBv5xb8TeBdHdTl3ElCPnCjdkLkisuyvajkC9auakDcPUP4\n",
       "APt5xKNDKONJ+39ISglVaB/GY9LlU8ldIOVWrnHi2VoCLLPN8WorIJT4f0Ym+J0bbyuo0qQAAJ8A\n",
       "AFSmuI1LAVUAAALWQZohbEP//qmWAQcGZpTACwdz97By58KyijKupyjETIl4g2/UOeKtfKeekY6o\n",
       "5ek7xn16PxCZLmSHkl0oNG20neemj1C0mXtmI1lhslg4Fzn6rP7aHAVSGQZw+dsGiuPT5QqckRTH\n",
       "zh3kHeNYNamQzB8VViSNSr8rc/3bozQG05lTXuvCyVBImwWqsQbAzGji5JZgfq3fiasbslxY9exj\n",
       "l7ZACowv5XIZLtsK+r19+BVZ9qtqV/ry8eSplCLmDv3HL1vuSV05iUf78nzFXDESbvaVVsgiPjZb\n",
       "2Jui1RJfbso9U3uwuGfQ+gWLfnlYNgUmf5QjUinaSlLsFuKK6eUSCXdX0kTJZvDsRKVH/SMqwwht\n",
       "wHgGUWtMH0VhKWMnOmPLG8mmXK3uR1zLuGxUbqCVO0Yqtlng+YrixQAz2WcbmQBthd++QW3puB8S\n",
       "Rp/PXQRnk3BgVVdawQ2U7URL11/xiUDu8XqyuhBZqyOWPmWhQW8LDBGh6WE7IGG1gXFNpdnmJ4mW\n",
       "NwSOE8mtTY45733fN/k7VFwtS0gXB6YSFFZhvx2vJFw0FWH/pvy91zpniE6cOmAHT4aFkQ+V6XKN\n",
       "JOG0MObm5IJRWvuJSK8lrusH0l6s9cD0uKar03sSZ2j6BOzYqHnfwd6eHo92Gi3z/Ru84bRKh3L/\n",
       "GNG7s1m8lWC3ch6QOt2qW9oexX3u6k+T2NExQk2sKz13GoXiM40VjRp8xjXd+MJB++RZVIk9rtve\n",
       "EazVpxSxxapCR52Ofo2rfB6huHaED7yOFrtdd4en0iKbJ5FypCO7oCU/6HtBAnKMys40CFDl1SWZ\n",
       "vl/E3thyqEEIbIre55H2O70+Z5UJCHahfrDeoOppdaF6tC2EzvCa16yIwHd0AoXU1KuBuEmOzMOj\n",
       "ALF5tVxDpJZ1TVSqx154exvpatY3cFDNULNiYiuovKtgpVKUt3KFNAoMFXqHNSlEumMkk31AAAAB\n",
       "YEGaRTwhkymEO//+qZYA7kuzGbp0ACpe1gqF1502TRdNZAjiH0ZaMX3dxYX3Ud6rbGigAFHo+rTj\n",
       "pQdvZ3iryGyem8Tmm+l8SIJlM9ts7aFNMgf9TGp6p8Gv7d11aT6mQiqxj6lSCMxdTCnAqrLpIRKW\n",
       "0IABnVQK6dYG0KkQ3ZvKcRc1A96HccrwWAtF17SWAvezexfa/Hh43KWv5tDL5jS1HFtfT9IAZVGc\n",
       "T+jRZaPA2LYURGMM5kVes6N9vBf7XobnQT94RXevxy0pqSDOLQlakS+YdlL7/Lyi+TEDlbvwWd/C\n",
       "2BPHKM8TdVCv8hS4UZ2DID5hxdeCtK9eru8BTn0sVnW5oIkXRnRktJ98CISNJIFerjNjOICDQmaY\n",
       "Uxc1g1aGvVvJARNZK2nSPuZ1rx1tsGNPC2KKOoI2mdgHSqkyqYsX0VBSX5wpYHdllyQWUNVN5NRY\n",
       "BDrG7aTqjUbRCJEAAAC1QZ5jalPDPwDisu0Ru9+bAAaNuVop/ZJw2AjZkB7BZ3Hni5MFpyc3pduG\n",
       "Xr7wV6KcUt0IhhdqrvO1IaHdNzrtsyjviorPiBLGpipQFDpXEAa3K0c38cit88Ej9BD+fREXbW2h\n",
       "8e3FaLOB1TtT3xbvzB0dcX3lN9P0KLdOOYc+vx5fvxwmrVtgkpjt1uzzpCKZ+oTgGn+qHdSxUPge\n",
       "UeQvdFJZl8uXeWNgAe5bMKs1lf/OV6JmQAAAAI4BnoJ0Qr8CkcV/852ynfUgBDzW1rbmi3ztuzdr\n",
       "LEiDHIRzY5hg9jzQahr+MWdtkIzHm/TmlTBkmmlZg6xP/p0uS4cv6vNLXok98IE9p9zPCzCj8pPD\n",
       "La+RnU8ZdXSFmSeXeiwXpHw70nwtC0h0BrVDzmgFcO/LmzmznNzF5b4wAQ9f8jDrca2e3JTphKl9\n",
       "AAAAqQGehGpCvwKQSQnVSkV9851ABo8ZWnK6OHcY8XTx27xX2+bUuxdbaUymvza6knFyaSzifIVC\n",
       "JNpq+DXldAmVNPt2vTbZr56KyoD2+cr1Sb4tT11gGAG7Pq+9oPbqO3MQ+j10DqXNpegzpF1YcI0n\n",
       "baqD4Q2I8bczmtEi/mZ/ieuYSXOsr1wtNugMSgNROZKuiYAPH67Ois7xvkucVfYaAuQ68NTxaLxK\n",
       "t4UAAAE1QZqJSahBaJlMCHf//qmWAMLU6a4//NdLtpABlyzwtv18ygKggO+z+x9uYJqXrtlk3/Mp\n",
       "tQ5U26QTvwOPsC2FsxZ6HX2DP+RZO+YeiHYmy/8WmaZodpZ+H74WCaoutOKs6Rps7g7XAFyhOpj7\n",
       "dCyOP6bVd71wQCkwqP7gcXvOgD9zVQ0yn4u2RZfZc6FYEvz95xrQOmnritPuu6UY/SUB37dGaRwI\n",
       "vJG/B33vUYBiJ9iYK9cpl4Q9gGHeeorZ4kw0B0Bx+1/3avhIEg2/kN5W7MPiDsZ6xGfqM7PiqexD\n",
       "sBbYYPRvLqn+vSattxQULPqxzFxoRCI9Mnl7MAn2MUnPye25niH6wRFHiGK+GIH+ImVB1msZz97q\n",
       "FR27o+Q920LCPwIQy0h67DIViPynRsTyV3f96WRxAAAAuEGep0URLDP/AOA2e8ZwW9RYADRU/0Ww\n",
       "dhHtkiBC+k4tikoHHCEb/EpehXfu2hqrBDwr7CfnpxZLlRSs8hayJpg68hcZV8I2luJyLerKIpGx\n",
       "5kf9XheArI32aczRMnGwopku9O1sifz3sVjc8Hd+VAWGVTNVqQDYZnkJc2Iyf/aqrQJ8bQwYvDq9\n",
       "oeOgA71B+qqzCOu51/f6/wd0FbyQz2dIzdo+N5HvEzlCS2bOBhz7V+YSMD1IYpEAAAB/AZ7GdEK/\n",
       "Ah8fLMORyU76kAIgl3niJ8+RcJcovWEyhT2k8KNCmsJVEtklRDr2+yTL+h27XMSu02/uOfzkScvD\n",
       "LUBxFbZc9zU0eGGsYrf0gNhHuZvVU4Ozka4cJDpJBuOYaryTLRB7GiW8SlLVwfMV4UPzh3UIh0WK\n",
       "AFI3SRWrwAAAAJ4BnshqQr8CHkQdTTiQHi/hhWz5gBEG0rSgASonqDdhXY8+V2Xtk9/2mx00HXtq\n",
       "YIkQ7p5EIbaKZt0GGB/ltfc5bvvif83SMBDChbnPOG8cF/iQ6JFO7VD4dSrIYavec8SGI6rvbql0\n",
       "/q1DIG4GDP+7pTiHicoClcVbK5FfEdMlgWQEVeMWxKP6VZfwjoii6TKKt2a1IgAROQHlfWi+gAAA\n",
       "AQpBms1JqEFsmUwIZ//+nhAE8SB+/r9ABtQwV+47wo34os3nilv0o0FjuBthlHfljRvS8K+JBwXB\n",
       "Qtw7CunilGygVwVDsf6sMj6W8UnyDElM17e+lrtoQxSGTkWT0q8Fw2aOQzKHWD9+VoWRZZtkDIgd\n",
       "eZJYkfWtqtQzntIz3deVF7OwGWgjCwvtRXPfLytkqABrKA0q1mGC7LSbLszHcXnF1/hcYDTDU6/U\n",
       "t6P7Ox7sNjY63WXI0Q3y9KmbhHA9v0x07p+zJ+/JLk7AZyEfpjKzDUqgcBUnbKfrRRXQEZnpy7r7\n",
       "YuAnZcgaX0NiDZdsYd0U+oWEkhFR1bySqPZQlpRYNHCt9T8LZSqrJwAAAMhBnutFFSwz/wDgNnsx\n",
       "MsnmbAAaNuVorjyBWHPuP5xveH0q94I1JlZCg/yp58FiqyRxo7widU3pMdEd1Ou2j6WNbX9XpNP1\n",
       "h+avQLFQucLUWxs1/YiWXQ3OXGNTiL1BJRn5Wu1d2JT9lF4cnivCGDhvwDNR2MiJZBwqF+poYRiY\n",
       "iULcfiFil+QvQVwnPrSdC/0kuwwEYPXuH/jdbYUXdfU+FKOT40AWbn20s/sB0UmdGWBk+Jop/YDq\n",
       "aU4QGk+fKWhPemOJuFXV5AAAAIcBnwp0Qr8B0j7mqK8zkMz7tMAEPNb1Wbh4Q8SLslIcHbzTpS06\n",
       "tJ+sUMOTofB5aA8q5WzEeBAyaKO8lfuSOJLZZ7TrRqx8hsxmi379i3RtHHr4naZohU9Pkzt1Zqad\n",
       "L6xPV3C8RVrrfpcb0rB6XyB+k/GH0GZE+Iu99YWsFJ3JnoedxYTDAFgAAACSAZ8MakK/AdGtB7Un\n",
       "27muUxAB/exWhxDpu+sNx9dYub62EURk3LcZazx/OF0gKeUpD++Hn3J9E5rlU98YcwkZnABiYQYH\n",
       "AbIQLXg5OgmLP4cVbmPx+mg4iTqqHBnqF9F9mHPUUKBiJKVg6nyyigTsSNZBXqHxripYdQh2/RmL\n",
       "OzlpzhKmo7/kZSsNk7FwBllwTDMAAACPQZsPSahBbJlMFEwr//44QBDD63k5yIAADZr357u5mJ9J\n",
       "6CYhwfKP5LS42yp8XxPoh5en97XnAdpUoY2ZB+pQkMxNvzjP1AvUAIg5mNdqWSdoqzpOG7dhs0Zu\n",
       "/qvsXMH8xlMUvMZJf/uNBT0VTaRtH0shtQi49OekeTCdjq/ScrO89HB5bSM+cN4enATGeOEAAACH\n",
       "AZ8uakK/AaLO/4MPwXmqQAiDXaC+hRLb7c3T838JMpnyFJOZBKrD3E537tXUnpekyHF8LrYFJgTg\n",
       "v4nNYI7oCajsSXH2OcrGx6I9PrRPpLmxfovsjd8sS7vljELeYiWLeDJbJWTyZ2DEejMyNU7/TTpu\n",
       "d2p8orha/jpU3kwkJ4Ur6BlA2K/hAAAD5m1vb3YAAABsbXZoZAAAAAAAAAAAAAAAAAAAA+gAAAMg\n",
       "AAEAAAEAAAAAAAAAAAAAAAABAAAAAAAAAAAAAAAAAAAAAQAAAAAAAAAAAAAAAAAAQAAAAAAAAAAA\n",
       "AAAAAAAAAAAAAAAAAAAAAAAAAAAAAAIAAAMQdHJhawAAAFx0a2hkAAAAAwAAAAAAAAAAAAAAAQAA\n",
       "AAAAAAMgAAAAAAAAAAAAAAAAAAAAAAABAAAAAAAAAAAAAAAAAAAAAQAAAAAAAAAAAAAAAAAAQAAA\n",
       "AAGwAAABIAAAAAAAJGVkdHMAAAAcZWxzdAAAAAAAAAABAAADIAAABAAAAQAAAAACiG1kaWEAAAAg\n",
       "bWRoZAAAAAAAAAAAAAAAAAAAKAAAACAAVcQAAAAAAC1oZGxyAAAAAAAAAAB2aWRlAAAAAAAAAAAA\n",
       "AAAAVmlkZW9IYW5kbGVyAAAAAjNtaW5mAAAAFHZtaGQAAAABAAAAAAAAAAAAAAAkZGluZgAAABxk\n",
       "cmVmAAAAAAAAAAEAAAAMdXJsIAAAAAEAAAHzc3RibAAAALNzdHNkAAAAAAAAAAEAAACjYXZjMQAA\n",
       "AAAAAAABAAAAAAAAAAAAAAAAAAAAAAGwASAASAAAAEgAAAAAAAAAAQAAAAAAAAAAAAAAAAAAAAAA\n",
       "AAAAAAAAAAAAAAAAAAAAABj//wAAADFhdmNDAWQAFf/hABhnZAAVrNlBsJaEAAADAAQAAAMAoDxY\n",
       "tlgBAAZo6+PLIsAAAAAcdXVpZGtoQPJfJE/FujmlG88DI/MAAAAAAAAAGHN0dHMAAAAAAAAAAQAA\n",
       "ABAAAAIAAAAAFHN0c3MAAAAAAAAAAQAAAAEAAACIY3R0cwAAAAAAAAAPAAAAAgAABAAAAAABAAAK\n",
       "AAAAAAEAAAQAAAAAAQAAAAAAAAABAAACAAAAAAEAAAoAAAAAAQAABAAAAAABAAAAAAAAAAEAAAIA\n",
       "AAAAAQAACgAAAAABAAAEAAAAAAEAAAAAAAAAAQAAAgAAAAABAAAGAAAAAAEAAAIAAAAAHHN0c2MA\n",
       "AAAAAAAAAQAAAAEAAAAQAAAAAQAAAFRzdHN6AAAAAAAAAAAAAAAQAAAYzAAAAtoAAAFkAAAAuQAA\n",
       "AJIAAACtAAABOQAAALwAAACDAAAAogAAAQ4AAADMAAAAiwAAAJYAAACTAAAAiwAAABRzdGNvAAAA\n",
       "AAAAAAEAAAAsAAAAYnVkdGEAAABabWV0YQAAAAAAAAAhaGRscgAAAAAAAAAAbWRpcmFwcGwAAAAA\n",
       "AAAAAAAAAAAtaWxzdAAAACWpdG9vAAAAHWRhdGEAAAABAAAAAExhdmY1Ni40MC4xMDE=\n",
       "\">\n",
       "  Your browser does not support the video tag.\n",
       "</video>"
      ],
      "text/plain": [
       "<IPython.core.display.HTML object>"
      ]
     },
     "execution_count": 10,
     "metadata": {},
     "output_type": "execute_result"
    }
   ],
   "source": [
    "idx = np.random.permutation(len(acous_raw))[0]\n",
    "acous_tmp = sio.loadmat(acous_train)['acoustics'][0,0]\n",
    "artic_tmp = sio.loadmat(artic_train)['articulation'][0,0]\n",
    "key = list(acous_tmp.dtype.fields.keys())[idx]\n",
    "print(key)\n",
    "read_data.check_original_plot(acous_tmp[idx], artic_tmp[idx])"
   ]
  },
  {
   "cell_type": "markdown",
   "metadata": {},
   "source": [
    "## Zero padding"
   ]
  },
  {
   "cell_type": "code",
   "execution_count": 17,
   "metadata": {},
   "outputs": [
    {
     "name": "stdout",
     "output_type": "stream",
     "text": [
      "padded acoustics: (26713, 157, 39)\n",
      "padded articulation: (26713, 157, 14)\n"
     ]
    }
   ],
   "source": [
    "# (batch size x max length x features)\n",
    "acous_padded = read_data.zero_padding(acous_raw)\n",
    "artic_padded = read_data.zero_padding(artic_raw)\n",
    "print('padded acoustics:', acous_padded.shape)\n",
    "print('padded articulation:', artic_padded.shape)"
   ]
  },
  {
   "cell_type": "markdown",
   "metadata": {},
   "source": [
    "## Note\n",
    "- RNN/LSTM훈련시 variable length에 대한 고려 필요\n",
    "- 인풋 및 아웃풋 데이터의 형태를 (batch_size) x (time_step) x (dimension)로 넣어줄 경우 (=truncated BPTT) 데이터를 time_step만큼씩 잘라주는 과정 필요 (e.g. read_data.divide_timestep 사용)"
   ]
  }
 ],
 "metadata": {
  "kernelspec": {
   "display_name": "Python 3",
   "language": "python",
   "name": "python3"
  },
  "language_info": {
   "codemirror_mode": {
    "name": "ipython",
    "version": 3
   },
   "file_extension": ".py",
   "mimetype": "text/x-python",
   "name": "python",
   "nbconvert_exporter": "python",
   "pygments_lexer": "ipython3",
   "version": "3.6.1"
  }
 },
 "nbformat": 4,
 "nbformat_minor": 2
}
