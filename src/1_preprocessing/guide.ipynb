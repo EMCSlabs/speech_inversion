{
 "cells": [
  {
   "cell_type": "markdown",
   "metadata": {},
   "source": [
    "# Guide for data processing\n",
    "\n",
    "2017-06-30\n",
    "작성: 강재구\n"
   ]
  },
  {
   "cell_type": "code",
   "execution_count": 21,
   "metadata": {
    "collapsed": true
   },
   "outputs": [],
   "source": [
    "import numpy as np\n",
    "from tools import read_data\n",
    "import scipy.io as sio"
   ]
  },
  {
   "cell_type": "markdown",
   "metadata": {},
   "source": [
    "## Load data"
   ]
  },
  {
   "cell_type": "code",
   "execution_count": 2,
   "metadata": {},
   "outputs": [
    {
     "name": "stdout",
     "output_type": "stream",
     "text": [
      "Acoustics data: (26963, 39)\n",
      "Articulation data: (26963, 14)\n"
     ]
    }
   ],
   "source": [
    "acous_train = '../../data/vowels/acoustics_train.mat'\n",
    "artic_train = '../../data/vowels/articulation_train.mat'\n",
    "\n",
    "acous_raw, artic_raw = read_data.load_data(acous_train, artic_train)\n",
    "\n",
    "print('Acoustics data: ({:d}, {:d})'.format(len(acous_raw), acous_raw[0].shape[0]))\n",
    "print('Articulation data: ({:d}, {:d})'.format(len(artic_raw), artic_raw[0].shape[0]))"
   ]
  },
  {
   "cell_type": "markdown",
   "metadata": {},
   "source": [
    "## Check data"
   ]
  },
  {
   "cell_type": "code",
   "execution_count": 35,
   "metadata": {},
   "outputs": [
    {
     "name": "stdout",
     "output_type": "stream",
     "text": [
      "JW55_TP012_AA_41\n"
     ]
    },
    {
     "data": {
      "text/html": [
       "<video width=\"432\" height=\"288\" controls autoplay>\n",
       "  <source type=\"video/mp4\" src=\"data:video/mp4;base64,AAAAHGZ0eXBNNFYgAAACAGlzb21pc28yYXZjMQAAAAhmcmVlAAAeV21kYXQAAAKuBgX//6rcRem9\n",
       "5tlIt5Ys2CDZI+7veDI2NCAtIGNvcmUgMTQ4IHIyNjQzIDVjNjU3MDQgLSBILjI2NC9NUEVHLTQg\n",
       "QVZDIGNvZGVjIC0gQ29weWxlZnQgMjAwMy0yMDE1IC0gaHR0cDovL3d3dy52aWRlb2xhbi5vcmcv\n",
       "eDI2NC5odG1sIC0gb3B0aW9uczogY2FiYWM9MSByZWY9MyBkZWJsb2NrPTE6MDowIGFuYWx5c2U9\n",
       "MHgzOjB4MTEzIG1lPWhleCBzdWJtZT03IHBzeT0xIHBzeV9yZD0xLjAwOjAuMDAgbWl4ZWRfcmVm\n",
       "PTEgbWVfcmFuZ2U9MTYgY2hyb21hX21lPTEgdHJlbGxpcz0xIDh4OGRjdD0xIGNxbT0wIGRlYWR6\n",
       "b25lPTIxLDExIGZhc3RfcHNraXA9MSBjaHJvbWFfcXBfb2Zmc2V0PS0yIHRocmVhZHM9OSBsb29r\n",
       "YWhlYWRfdGhyZWFkcz0xIHNsaWNlZF90aHJlYWRzPTAgbnI9MCBkZWNpbWF0ZT0xIGludGVybGFj\n",
       "ZWQ9MCBibHVyYXlfY29tcGF0PTAgY29uc3RyYWluZWRfaW50cmE9MCBiZnJhbWVzPTMgYl9weXJh\n",
       "bWlkPTIgYl9hZGFwdD0xIGJfYmlhcz0wIGRpcmVjdD0xIHdlaWdodGI9MSBvcGVuX2dvcD0wIHdl\n",
       "aWdodHA9MiBrZXlpbnQ9MjUwIGtleWludF9taW49MjAgc2NlbmVjdXQ9NDAgaW50cmFfcmVmcmVz\n",
       "aD0wIHJjX2xvb2thaGVhZD00MCByYz1jcmYgbWJ0cmVlPTEgY3JmPTIzLjAgcWNvbXA9MC42MCBx\n",
       "cG1pbj0wIHFwbWF4PTY5IHFwc3RlcD00IGlwX3JhdGlvPTEuNDAgYXE9MToxLjAwAIAAABHtZYiE\n",
       "ADv//vdOvwKbRZdqA5JXCvbKpCZZuVJrAfKmAAADAAARsG58lw15q9IkAACxZ+xH/wAFcCj81nPI\n",
       "bywQ8PMf9TzzQ9kSV5W7Og6du3KCVBLYmPD6wuBxpTeiRj1rFiG5De6mFJmq12D0UgsEIrGuwW0Z\n",
       "5zv4GOda6PindOSzZu0xRokqMa3AD1O/UkezRvMn1ccIwOyTA7KCKg7AjzTrOAHrs2GFR7+sTHwL\n",
       "TxwRLIKzTqarOwB/+nj7MYvjPg2ocr3onWGVKEQ8nr/tpcH34qJFeqsUA0J3BFsFEC0Nk9DBEm+h\n",
       "oNHj4lZrOIr61jhdLe77Dcf3qalO3oieM6Ax68v2t07mL8YGciZnjPl+iZlY6D10xxx8Jtiw2NiI\n",
       "K6NqaMY7NLypBEpmRJArG1iXBFMVptT9kn1HPnS4W4nwegv7TRUkMuM7vu3+UZZsbbl9Ng8IQwnc\n",
       "V73WvgPCeND4t2vqiOsapsZCa+X/W32D6V9ZKbfDt9eyfDuzhzzt2YjOAxOLt6zcVA4nDwp1PLU+\n",
       "+r6GSP78Vjz2z8HsWr7aisnfklVZpOftQF9AxweT6hUJudj2faRh0I63j69JXpbLHKEvRMYZ+omu\n",
       "ksHlqH6G5arokAKTHAEgnWXtM8hi3p3UiupZx5cgaoPSgUhdXarA7BiA0crH+PjeUY6Hyw9Arky3\n",
       "FepVXsewRES+1rlQIBBb2qY7ZR9QG8BN9gX4yKV21LCSFnjeY1tk3uu1rK+YVUZ7xdYZYCrtUSV9\n",
       "W8kDGfd3PGqtMFYOoJbu8hMGcV2//eUPY2fobD10RAabBCjkSto5KGmHo7IBv9KcPAvZcffaLhT/\n",
       "51jtQZ8jL4l3NG98MFPvW6NwuBuopQ7z9Q7U2ashLhkcsVWiZYs+Cltc3imuk+KF1u0LUaF1yG+/\n",
       "ET4bRZAfYFFw6UMjWguc8+ybMvvB9Bd3iG/uBumZ60mFc53OFlYVwEzXhf51tbrql9pyI2J5z02Z\n",
       "p3K6+/wO1tKttzq4pXanMRXAH/d9vsbKdqhoikBYzLnQg8O+uHCd3/Oy1uDk+br0hClLls3RrbSN\n",
       "V3Mm77+B2dLo0zgO6Dwog+jfkMfw59hGC+lCt8SvYENsBPggSUxLJnalx+1IeFYscM+hGU7TVYUi\n",
       "GiikH+Ss6RmAIRrA8WsSl/DZdh/+LHNbmMGVyvV79l5sPiOVrI5tzkXre+KztYCXKB4PvAseNdfN\n",
       "znrWALD2761yp3UAxRGm+f9Pc9dWw3CI4bPxc3UCrXJyQzAyIlPhtju0KjC6LjijQ8dVqFyzkECo\n",
       "VTmVtxWCRlUsW1qsOUxg12KWXaj6D3ILQzmVxJgyZ5VrvDLZFY2YeyDaLlEpss/cT7/InJVONYRL\n",
       "/ZZwprlwPbs1B81pGwWQyvrGhOTN3k1lCj84Tst8lGNEuBCCbTbrGLRtX4G2EW+XksDEPHAdlJrc\n",
       "0COA9dB++Qag30d48JcFETnIM1DrDa3/ZRmUp2D7n1fUO7zEEtvymxUmrJojoSYeOnSx0u3tW4fc\n",
       "H7KSWvt56EfuHN+7XIlEi/4u4/rq+vswth1YZbqA8/CFwlZhE3J+/4kHO1G/uBMLkZsKc/LZ+R7z\n",
       "ThG3XVkIE8dB3GWub69b9p5AF5xdxArBXIZKq91ck4ieRYn9+E9qesDuEjv8M3YesBbabAb7JVIK\n",
       "NrPU0aeQXtEAFp89cD9z+yp+USEELGIFWW8s7k9Xd++J5tof7EYqEYwBdaQ23B3hDzoITw58hS+B\n",
       "Ta3HQz0zrNWN6cDu0YOrzafo/DFkvuOM/BcXDVDeS+hHHb0SKw8O9aJqxXlAMTKA7Qdk4Ha+9pKL\n",
       "rpefnM7BU+WeipYbqjTO9dk0te6tI5C/O2AjgOFPGycQywOp+iKs4l9vVIoe+dyburKXT7MnQvD6\n",
       "tQWXR2M76roPLE3uxn2NyzR9BbcmgTSDh0Ae79ZFg283s+pzI278cHQr+2NYITqFz5cb3TY29BoZ\n",
       "V3yB51QMpxK2LU73/bMukG839n+ld7ym3jznzb0jUpA2F7akkFyiun9Q8mteeHOjNyQgeBkN386m\n",
       "dBSseqmc8cf0J9BJnFnJ/CV6IIqTQxnfPK1W0c98B3tJwv4nb7qVmvs8zlF8xNJtChiM12hZDRct\n",
       "prBAi0SZfaXU4tvJN154Ckzh1142p/VsoGgVrIM48uQTS9oM03mgxUBLbH12sB7Hvo83GL3kO4Cf\n",
       "RU59rihYefW3kkk+H4ZFa/tc+4ZYGcPi+7C1WdPy/7jTBr3MGERpWgBQe06R+RggvPs1I8rvgGyX\n",
       "PkL8YvBuWzOd4q9BxHlgsz0DcoDWy+VKSN/z4K6IS+6XJzDe/GW8Ema6AIt+z9F/iHycKw5IymTP\n",
       "PYln1DOJN3/cyZAXkJw4G6DqnJC523wxBTTFme7enOT11tHfAfXiu118OqHKFxsuc2kS2XrDbVHu\n",
       "/AXml4qznGfeqAEnBcqBtGpM/A0iVGGYCaWZgU/znk/xd0eCEIzJJpRJEH09cLDDytbUaOgfpqe2\n",
       "h2cWXBoqYFfohdsamRz3seK0LL8/u6NQaPeGwTobb3f9Fka5Gy/bre7MHEXhEtP70IDLUtJgPp5a\n",
       "2tOWMLvWbWwsI9Fuokp4sEYTeLJY6iYLIM3ddEKiLNC+eqGVtE9T6Xsz3Ht4MWNru8lRspCaY9xf\n",
       "mRfZDQvjOonLSAa4ByuphiqhWz1inZOBW/3vfuiG2WWME14CYbGlZAq/AzDwhertErCi8ZomaTZl\n",
       "19dPUSeEzmqfpBv57+YKcrz6qzUlO9BBo1z58tJS4ZvVpkAWMN4TX0olu1h55E+dX0+8AMyoAaSk\n",
       "OfiRkr5zpujTHDhzobft0NaNr6SYIxsCY8qWibVeut+/BY8LmRmzJtiQknYxHDcpOsAqcLySQxjC\n",
       "tls5fztrKJOupHKn+mrWA7N31J9k7kUCid/bg7y7A6suF+pPV/5BXqcVMJMMKBMUykNZj+Mlnnyr\n",
       "211M9mlDtAJ0N/sAce5G7lmSmfmDscMK4R7BsK+jb2o7pV7UoxAvyaLPsqbwGtn0agcO8zveIOke\n",
       "Qp4Re7w4Zm8Xx49Mde2Yx996dvDsO/He33J0SR239ZDDaKbWbz/c/+/oUcaE9lwJ4uRtMEurl5Yu\n",
       "Ziri+FgcPFiuDAfktq4F14v06XT1kVgAACIwUxwNAIaACX+2qUubXRlwgKTE4XIGrT0xcUk1QFwS\n",
       "7MKmjpDtgQvz6WEfNrPD26JQfpp5+ZsHthLxP053kS8WteW2GzEqMnLpx3nfSLmpnNQS2ftmCkZB\n",
       "Tl2XN3cIvY9oZ88bZAEfv8mVb53eduY3RO0ZDb2lWNnvuEtVX45O+RHZUS9VH/P0bDgMcmSHJ8zj\n",
       "/AG8GhlOSW5KfziiQ74aKEcUWIIefMK45hMX5j29pKcdKADe/bLdSmQ1PQugGAa/MVdnZAhr95at\n",
       "h3tQPwRUEZxoSsfB3wpqv86z5YPwVpAhtWdMB5t77xgr50xb4RV3LXLuUyv1JJ6E2CGI/CLfWpD2\n",
       "GHnLhYcKd8Wmzzi453NIiqRFHIBGhjHVA7U4RSEWgc4uI4m2FEainzHpPREPV/I09zzMFgazAp+I\n",
       "dijjFos4ihVJ/5lGumk0xvNGx4WqIP3aiL5/iTSe1ZM/XmBpwTHerNzaD/XQupRlI6yP4+6tc8Tt\n",
       "WVwbn9e4gAXGlPZjjhX03V4AygRpSFo6eViuF/QglVNo7cT5md7WcQkb9GlcB3bxgH/G5aKAbVsh\n",
       "kJytTL0fk6GZK33ck68PYejr886G37xSJoT8f0xzLbfSHNzC7xU5R3IPZ4oHTfP+ClmngSQNYnv6\n",
       "+ZYzI3KRXAyFDGuSF12fKTIW2KUUuJx8PZ1dXOqnu5X+jHnlypwne9j8+stzGIsMVJg1v4s61ABh\n",
       "m0pO/DhHjc5fpZvIQmkniXylbvgq7liZ18yMHKu3/PIkNgFMZK/+yw79oslAWuFmVF6ezJBxw+qL\n",
       "jhT1OP2A7osGHsa1hP9qjsf+5q8VxezBooIgSQRe4YnyXtl09tGL6q7sYl9An09db7wssej+/Edg\n",
       "BsSQiI++qLmH504JkdH/sZQJ7spjhucojDJeezNd0WX9/hcIplphuQCSz33JOM+nOgCuMBSGY4WC\n",
       "3UQ2EDhEzZ70rvd3vYZFe00EW0m2Mp8BXoLPVSUTGcguJSezz/rVz5zVwUoeGJLmhy7RnOlzWDuQ\n",
       "Zta1I37EdA0rM3lmxmXMwYwfY2Y0P9QC9f9wEat+zy24I9szHOziCvarapWX9MSU4QvIfbFyom8i\n",
       "solmIa9uaS2LpDzvnuQ7UrvO971Xk1sPYod+OqBNZt62JKMwnjgy9enfssZzpe7P/9tCfwfcU8qF\n",
       "r1lB8XMvB3byuUtvT2p8QZZF58ptFJVlpfcrZGql/Zx+AiKPXhnfE+7YcfKwoIjegKAKuiDM3ytA\n",
       "vRSYg/e873iG+9GK4ifWWyz5FgETPkdsYDu9TzMh+optO5sKoAXCenMHd+p/A9HxSZqYdOkoCe+D\n",
       "cxAyh/CuY/MK1ONMHY8jiEZIY5N4QYS2JFvp7mCQBRzwLzR/hfejmFNw8O0E6e7d0OOwzhoUJLCK\n",
       "Ih5kZx+LoZlt2/mhcEpMNRT5qkczJVhfiFYBA3aO7f8+8FFwtCHrF1kQtTLMHbhIKbV5zbFKMsfV\n",
       "eG6ks9Fbx7dgoiAlvTqiHUfQnf2zOPS1y7w5j4wdTvmED6Zi8rL5lHY6o+cS268uNHpAaOIRoy5L\n",
       "Uvn0GyzKoc1sw90Fd1+xkPy58SBx7JfIcUM2TFDmgCHTpJ2pEXoq7yH/7aOyiD4t8M1e5qwgDHog\n",
       "Yb0V/8T/6+eb+bI5KmY9clhLkseMW9C3xCHMpoetiB5ACnFwKjX5l2LRKAJfClun13/+eyZUzb7E\n",
       "tk3WIDlTBdppA5mv3B/dPn9zReAXBxT39i5NQE5fd9x/kC/0R0YJTClx2QxUwgISOCR+43iOkl2a\n",
       "hnnh7vhi80phwik/t/UhJYagFyABbtXYhEc/XHTkIbKpwgNnX7V8n01gh9BgDzneGp5bVWLvvkHK\n",
       "gcznhfEaYEgCOBuzEXQSu8cp50QWzWOXl1W9gz7sk69hIN48aKH3yasvdAApqT55vyiuQMlx34fl\n",
       "EWNS4zXd5Sd0ggQCTHW2EhHVrqke90Tg4eDHiJvVP5rCck82dXOf8MmjvDYO2R2nRBRpENYMPQoh\n",
       "PufkkITtRznTO2mulPTSJp7KEXGJ4mHGi6mP2XEXFAczg/CBhATw4Q9ukaDQHfj4IPU0PtvvCaE6\n",
       "xXj+nVrNv/uqsWthGDu3aUSNUx8kiRhIrqyVL4mtr1r65r2sNYVISCheSIp/pmTdEu4Lt/SzwqiE\n",
       "ckZHNOzF8mIoh9UuLODdGdQsWLgdtJQieOugNcjLT7hCEp4PxYZs3L3ZrbOZIKnRqIUkUggRQ7VP\n",
       "P8XEoUlloxio4TE7UEy9ypAlO9UgTWHI79YbikcAeDvOgT3ZO8tHzOULPb/knvemjr2rrfuVMaMd\n",
       "v9dEO5sll+bkLJ32UyINP6Mw5R/nDDB5urSkGMfttug6t8sKvbnNvn1ZKRnM89TCwQGvt/iuZdxX\n",
       "h3kV/m5T/l+E2x1mNlwCxFfQ5z5je+wk79UrplG+UeiVGxvnStRQO1k+Fnoy+BpWRsdol5Jd6fA0\n",
       "WCTx8yP/elVthr2NuKBa9rbM56brZl52mnEsNNKdDreEp4GwiBcmxH0Wf2qygUI8vEgughxRmU3N\n",
       "Y4AIYP5QCiBUmsy5/m3aS41b3GL3P96eIyp/qt9doBfzvjlQWwUss5xGq7lSz8cn9tV/8LkW3SBR\n",
       "12I1w9xbdlSq28DVBBls05vpSgB4JLGECnK6p1wQCT2P3ODGqnMiPw5DDA3iuxJYBaouZCp/tY/U\n",
       "K1qJq2agN/zPt2nK02W+uDT5Aa/ekFA0yJVD5aEtDKT3YhRqknd+LBsf7M5IcXG/BswlHOhDbeYc\n",
       "AMTnPfBAKGgemNxKdzk0TaBwoi5R9dmvFIchMsSEvR2R+6d1UqJlw+IYJUpOyjoer5LQuKAuJj19\n",
       "RtwPTwJfzPV1iESov/7b6LNeyTeKiYGbJ15NbaEb61I2CYGjvNnxto7nZ76QjaZnYGnBVxBB4R2g\n",
       "53fJsIKD3wW79vPQgRCtwAAGEAACCL4cUkEAAAKlQZohbEO//qmWAPv2Ftn/P+YAKX7nh2uYY4Gq\n",
       "wVUQU6d6MJsuuUE021/0xMc5immjZjfeJLlHiFqyIW+Qo2I04J62zPTUuDnbxCZ7DIFW2FU1MgCk\n",
       "ZqjXllwAY9y381/anVEgr/2h03b1TH4RM0BFr6mTSoCC9LlixizSe7/HnUPNlP2efwXKGPJZrOXX\n",
       "fKwNG2bK91Mj3MiFAwyYveuPFgRJEbVh7UWtaVeYY0b/NnxCuf209tcyxM9KQNW7imGY7hCR5THE\n",
       "SZCGUVRpOpAhaLokgeizZqpIVU856RQU4jCZMV1zLlCIWiEBIy9FlrQ0D+4Zvxv9Da8IsEYM7VmH\n",
       "+lV42dnQvzLpISGS0NhqNzI9bU3HJc6EIh6cbnFLzXQV223vkNgLruiKcNpbFJgeqt6vdoaEh0QA\n",
       "YffJkFvbYmf7u3ygKWHZCSWZ3pix1nJ0O9qnmi9il1L8lLAwxcFjYle7lixOiAGzY7IDi2ZJsYWx\n",
       "384AKaV76XqkgNyt1gU5D6HVZeN+EJXKSpEW85Q1RCOY8dmS28mW+kCgueT337gc5xwMVltgyPCu\n",
       "G3+lLUsFd3gbwzl2Sf9wgxXpYAbP7pvQ8/iey1RqcLNh1aFQkEfvzq9ShXJruabWD1KGuTwUrstQ\n",
       "SuhMfZJDt41zaWutb+rxV3xM937WzDBeILjNJLPjOz5s+FbgJ9r+9CEG7qNIHXCZ4Z/HTc/GAc6E\n",
       "UwtR5W0TFwtecwWzOzLRhOvolSvC6yDkJqPn8B+GePZAJ93q7wN58MxvNT6Eaz6M6iGGaxBMr6cG\n",
       "9a+l7wTAVxg/gl8Lpnm/4ojEcLz2j7NJ14/AclxET9cEimLyNG33sLMmEZvhv+VGSS2P3gqE3clw\n",
       "IRSLDJ/eZFI9+GwbBe5cfmlNtJSAhoAAAAFKQZpFPCGTKYQ7//6plgDj3TkUy/46TT/4ACjqVNAY\n",
       "C3GYoDdrPRvViIegE6KRBCl2YeQK5gt2ZB8Lq6+ju5wZCYGht7g72ZISB2Qw2HC6vGvM9sTOxpFz\n",
       "XK65fN0BP6zQzOUyPN75+wngYwew+4n6KOWAFh8123UU1cu2mFkoM/NtvjGXBWWuCQQfHBqGvXQJ\n",
       "yEwxb9kDACQPhHMDuaN8q8L8Xe9lleoK8VgJ+B7yeBkE7XX2OyFjbzd1U5MgH0gyuL4nQ8dySkMl\n",
       "GWlfEBNfZsUpDwo0VkLf/JYeRgISjqJgG0Vs4TSjq25/WSwE8RHD6Brd0z/FjMy1jILWH4Xzobcm\n",
       "fF0HBicrgEVaH5chsHc6x7EzKjk8Y1XG5+QK2VC2+GcSqk+gALhMKDGR3++4VJ9uhj9UDtTe1vhN\n",
       "E+70v/JJkWXVGZMkOtaBAAAAzEGeY2pTwz8A4rBXZAh+5lABUafjO6r/Yzjv0BvMUKFwvBSv+FUF\n",
       "I9Y6T7Zihe6rGPbZHj07p9DFp/ICYfKDfr/kuAQP/cjohEQN0e7lkRZas3qvlwvr6/lbicQb0FtW\n",
       "HmIQR7Su51IldHc4GF+hwTKzP2ZV7EmViqfPnCpqCMP5ZMNjqLwxsRQ779vsIeTthENv+ppB42HA\n",
       "7ZZmg6BCOvXS+bKmgOkUyE2y2QdEWngiyrDOemGItdTL+bluVba/kok0oy9KoM/O08qngAAAAJIB\n",
       "noJ0Qr8Bos8EcEtfNUgBDzW2PVw/QZIftLl7QOXQvYjF1/c2s5oj6Iny8DpC/ckdvTeaF1w3UWxA\n",
       "ZP7nX7g+UFeQSbB5rlq38JClzq3YnmTaYTujNwdKGaoxL/TF930vjeoL5bhsEbL+nIQrFnPj19sW\n",
       "QZeA6ZEkJ2Kwi/sKazHDis0vgZWVuC7WaQEAoaKsoQAAAI4BnoRqQr8Bos8CXimagADahFZTkIJM\n",
       "F0S+UxOCa2fpPD8TF+tMvmdApeTQmCpzFEoJKdQPz2UbGtWPAg/n0mCQ9UCk5EZGNluq1c/HUvDX\n",
       "RqVAY4NBRr8kr+pE9INpweWbgotH2mqxYsCATqovcm5XTq83ZBefqO+yp2Yyqp7UimKjkkvOYqJM\n",
       "BwH+KipBAAABHkGaiUmoQWiZTAhn//6eEAVBA/PWXMoAKk3K0U/sgJNtsYXn1felft/iImhW6EdZ\n",
       "l1qvrY1qjjR3Me+3wSDi6VFjv31TCAmU/vnUlpww5Xao+AqP7MO8MMM4tYim+ZYxQ0SCZ17c8yRg\n",
       "LZjWvA0cWa/g4IutXWRkqrGr+xZsW7onsPTpE08wKd7uNhxYnoaWai0rr7190pL8c+pnSMy8Hu6F\n",
       "/RaX9p/xb+XoJE2wf3bf8KQ6X9EQ7ws5L5xQgPIrO9GOuS4NLwSyz4mfH2SA5+XI+JS2ua+6Rrfo\n",
       "VWsZzh6vx44xy0DH1KYwcsXlBbKGHMOxH1/8VSBI5vSZj3jwuJB5ZRXWZi+C31FZAVRa5PBH144G\n",
       "sefBVPARZvsAcQ8AAAC4QZ6nRREsM/8AlsXVPAwAGiQHeRc+dpBKFcOzQTzkXcYobRTrWcH4Usb0\n",
       "O5GtNSGI8R6frSOdgOshvMS6nh29e6NzHajhSiFWq3lsLxolBj2ueahcCWMQRX4W1B4KFkkSXCxo\n",
       "FsfcrVLwUk8R0KGlFgOgJjg8wlMGa9TteHflpAe/bDoPfi+NyO+XO8/1NqPT2Tk0dySn8q1VKwjD\n",
       "B8O7M3FD5hfqsKhdPcg6dX0NO2O4mWVy391EQQAAAJkBnsZ0Qr8BFnTuazAAIJ7Facro4dxjxLzV\n",
       "KZgcwISMm5fWUsgIBbc2Gl4ex9gIcCjEkJVazqO/rL8Zgy6H1Rpa6fB6s29hJT/ej8gowzNZCDei\n",
       "orzupjczw8HtBp/sOMmIatzjl36pReBIvlLAQMIzpt3QlSb7oZEPiQW4Xct5wiN+XxqQtdyHsH5b\n",
       "vlR2V1HbnJPyRQpyIu4AAACgAZ7IakK/APgCkTl0AITSntEyyg5vwYzVDM5xyDJasLB6yGAie6W/\n",
       "+H0j7NkiORgQJPOz5NQhdVFYn3LRj9nDf6QfWNkRzZdX0t4+sMOwGIu1TFJzlFQm3mDj1v099/sm\n",
       "6UACRYteW4ZszxMExxK5mqtNjOrGahxODbbvIFNIN1dknob8S9D2VsqRiEmajmO6SsSi7DgSFgDP\n",
       "7qIqubCqKwAAAJpBmspJqEFsmUwIV//+OEAQQ/dz1WpwAhSXfnp6bWZlYZeOUW4YNU9/YutQ5LuJ\n",
       "IdxZ2MnintmY6Ip4T0KnscgFKX1NEchrx7WkXDel/X87qySmvxxYPX6SdxPzZPDmnkndAOn/29KQ\n",
       "KMAoEPFq4W2QTwOriG9ORo76+L9dFCOaE0BrWjKTDCejJU/i3T7t8wOVThU5Tpyh0kKtAAADqm1v\n",
       "b3YAAABsbXZoZAAAAAAAAAAAAAAAAAAAA+gAAAImAAEAAAEAAAAAAAAAAAAAAAABAAAAAAAAAAAA\n",
       "AAAAAAAAAQAAAAAAAAAAAAAAAAAAQAAAAAAAAAAAAAAAAAAAAAAAAAAAAAAAAAAAAAAAAAIAAALU\n",
       "dHJhawAAAFx0a2hkAAAAAwAAAAAAAAAAAAAAAQAAAAAAAAImAAAAAAAAAAAAAAAAAAAAAAABAAAA\n",
       "AAAAAAAAAAAAAAAAAQAAAAAAAAAAAAAAAAAAQAAAAAGwAAABIAAAAAAAJGVkdHMAAAAcZWxzdAAA\n",
       "AAAAAAABAAACJgAABAAAAQAAAAACTG1kaWEAAAAgbWRoZAAAAAAAAAAAAAAAAAAAKAAAABYAVcQA\n",
       "AAAAAC1oZGxyAAAAAAAAAAB2aWRlAAAAAAAAAAAAAAAAVmlkZW9IYW5kbGVyAAAAAfdtaW5mAAAA\n",
       "FHZtaGQAAAABAAAAAAAAAAAAAAAkZGluZgAAABxkcmVmAAAAAAAAAAEAAAAMdXJsIAAAAAEAAAG3\n",
       "c3RibAAAALNzdHNkAAAAAAAAAAEAAACjYXZjMQAAAAAAAAABAAAAAAAAAAAAAAAAAAAAAAGwASAA\n",
       "SAAAAEgAAAAAAAAAAQAAAAAAAAAAAAAAAAAAAAAAAAAAAAAAAAAAAAAAAAAAABj//wAAADFhdmND\n",
       "AWQAFf/hABhnZAAVrNlBsJaEAAADAAQAAAMAoDxYtlgBAAZo6+PLIsAAAAAcdXVpZGtoQPJfJE/F\n",
       "ujmlG88DI/MAAAAAAAAAGHN0dHMAAAAAAAAAAQAAAAsAAAIAAAAAFHN0c3MAAAAAAAAAAQAAAAEA\n",
       "AABgY3R0cwAAAAAAAAAKAAAAAgAABAAAAAABAAAKAAAAAAEAAAQAAAAAAQAAAAAAAAABAAACAAAA\n",
       "AAEAAAoAAAAAAQAABAAAAAABAAAAAAAAAAEAAAIAAAAAAQAABAAAAAAcc3RzYwAAAAAAAAABAAAA\n",
       "AQAAAAsAAAABAAAAQHN0c3oAAAAAAAAAAAAAAAsAABSjAAACqQAAAU4AAADQAAAAlgAAAJIAAAEi\n",
       "AAAAvAAAAJ0AAACkAAAAngAAABRzdGNvAAAAAAAAAAEAAAAsAAAAYnVkdGEAAABabWV0YQAAAAAA\n",
       "AAAhaGRscgAAAAAAAAAAbWRpcmFwcGwAAAAAAAAAAAAAAAAtaWxzdAAAACWpdG9vAAAAHWRhdGEA\n",
       "AAABAAAAAExhdmY1Ni40MC4xMDE=\n",
       "\">\n",
       "  Your browser does not support the video tag.\n",
       "</video>"
      ],
      "text/plain": [
       "<IPython.core.display.HTML object>"
      ]
     },
     "execution_count": 35,
     "metadata": {},
     "output_type": "execute_result"
    }
   ],
   "source": [
    "idx = np.random.permutation(len(acous_raw))[0]\n",
    "acous_tmp = sio.loadmat(acous_train)['acoustics'][0,0]\n",
    "artic_tmp = sio.loadmat(artic_train)['articulation'][0,0]\n",
    "key = list(acous_tmp.dtype.fields.keys())[idx]\n",
    "print(key)\n",
    "read_data.check_original_plot(acous_tmp[idx], artic_tmp[idx])"
   ]
  },
  {
   "cell_type": "markdown",
   "metadata": {},
   "source": [
    "## How to use for training:\n",
    "\n",
    "1. read_data.load_data를 사용하여 음향파일과 조음파일을 로딩하기\n",
    "  - 데이터 경로: speech_inversion/data/vowels\n",
    "  - 인풋 프로세싱 모듈: speech_inversion/src/1_preprocessing/tools\n",
    "  - 음향파일: (39차원 x 프레임수)\n",
    "  - 조음파일: (14차원 x 프레임수)\n",
    "  - read_data.load_data의 결과파일 (e.g. acous_raw, artic_raw)은 리스트 타입이고 element각각이 하나의 모음에 해당함\n",
    "\n",
    "2. 훈련시 인풋과 아웃풋을 normalize하기  \n",
    "  - 인풋과 아웃풋의 범위를 적절한 범위로 normalize하기 (e.g. from tools import normalize)\n",
    "    - e.g. z-score, min-max, sigmoid\n",
    "  - 이 단계는 subject normalization이 아님! 단지 훈련을 위한 normalization임\n",
    "\n",
    "3. mini-batch 개수 결정하기\n",
    "  - mini-batch가 1인 경우, 즉 모음을 하나씩 훈련할 경우는 문제가 없음\n",
    "  - mini-batch가 2개 이상인 경우에는 각 모음의 길이가 다르므로 zero padding을 하거나 variable-length input에 대한 조치가 필요함\n",
    "\n"
   ]
  }
 ],
 "metadata": {
  "kernelspec": {
   "display_name": "Python 3",
   "language": "python",
   "name": "python3"
  },
  "language_info": {
   "codemirror_mode": {
    "name": "ipython",
    "version": 3
   },
   "file_extension": ".py",
   "mimetype": "text/x-python",
   "name": "python",
   "nbconvert_exporter": "python",
   "pygments_lexer": "ipython3",
   "version": "3.6.1"
  }
 },
 "nbformat": 4,
 "nbformat_minor": 2
}
